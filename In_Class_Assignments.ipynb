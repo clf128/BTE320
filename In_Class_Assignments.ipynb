{
  "nbformat": 4,
  "nbformat_minor": 0,
  "metadata": {
    "colab": {
      "provenance": [],
      "authorship_tag": "ABX9TyMtzb6J9Rmo+aAN/UW86h5d",
      "include_colab_link": true
    },
    "kernelspec": {
      "name": "python3",
      "display_name": "Python 3"
    },
    "language_info": {
      "name": "python"
    }
  },
  "cells": [
    {
      "cell_type": "markdown",
      "metadata": {
        "id": "view-in-github",
        "colab_type": "text"
      },
      "source": [
        "<a href=\"https://colab.research.google.com/github/clf128/BTE320/blob/main/In_Class_Assignments.ipynb\" target=\"_parent\"><img src=\"https://colab.research.google.com/assets/colab-badge.svg\" alt=\"Open In Colab\"/></a>"
      ]
    },
    {
      "cell_type": "code",
      "execution_count": null,
      "metadata": {
        "colab": {
          "base_uri": "https://localhost:8080/"
        },
        "id": "xaKJE4K2gb4X",
        "outputId": "7a923e95-17f3-49e7-f46c-08fc72fbec68"
      },
      "outputs": [
        {
          "output_type": "stream",
          "name": "stdout",
          "text": [
            "Enter sales ($): 12000\n",
            "Enter tax rate (%): 30\n",
            "Enter Cost of Goods Sold (%): 40\n",
            "Cost of Goods sold: $4800.0\n",
            "Gross Profit: $7200.0\n",
            "Taxes: $2160.0\n",
            "Net Income: $5040.0\n"
          ]
        }
      ],
      "source": [
        "#Income statement#\n",
        "\n",
        "sales = input(\"Enter sales ($): \")\n",
        "sales = float(sales)\n",
        "\n",
        "tax_pct = input (\"Enter tax rate (%): \")\n",
        "tax_pct = float(tax_pct)\n",
        "\n",
        "cogs_pct = input(\"Enter Cost of Goods Sold (%): \")\n",
        "cogs_pct = float(cogs_pct)\n",
        "\n",
        "cogs = sales*cogs_pct/100\n",
        "\n",
        "grossProfit = sales - cogs\n",
        "\n",
        "taxes = grossProfit * tax_pct / 100\n",
        "\n",
        "netIncome = grossProfit - taxes\n",
        "\n",
        "gross_Profit = sales - COGS\n",
        "print(f\"Cost of Goods sold: ${cogs}\")\n",
        "print(f\"Gross Profit: ${gross_Profit}\")\n",
        "print(f\"Taxes: ${taxes}\")\n",
        "print(f\"Net Income: ${netIncome}\")"
      ]
    },
    {
      "cell_type": "code",
      "source": [
        "#Inventory Management#\n",
        "\n",
        "demand = input(\"Enter demand (units/year): \")\n",
        "demand = int(demand)\n",
        "reorder = input(\"Enter reorder cost ($/order): \")\n",
        "reorder = float(reorder)\n",
        "holding = input(\"Enter holding cost ($/unit/year): \")\n",
        "holding = float(holding)\n",
        "\n",
        "eoq = (2 * demand * reorder / holding) ** 0.5\n",
        "\n",
        "print(f\"The Economic Order Quantity (EOQ) is :{eoq} units\")\n",
        "\n"
      ],
      "metadata": {
        "colab": {
          "base_uri": "https://localhost:8080/"
        },
        "id": "Ih0cJM2AI77U",
        "outputId": "bc6f4a07-b7ae-429b-b7af-b1f14ca2f502"
      },
      "execution_count": null,
      "outputs": [
        {
          "output_type": "stream",
          "name": "stdout",
          "text": [
            "Enter demand (units/year): 100\n",
            "Enter reorder cost ($/order): 1.5\n",
            "Enter holding cost ($/unit/year): 3\n",
            "The Economic Order Quantity (EOQ) is :10.0 units\n"
          ]
        }
      ]
    },
    {
      "cell_type": "code",
      "source": [
        "# Numerical Calculator #\n",
        "\n",
        "numberOne = float(input(\"Enter Number One: \"))\n",
        "numberTwo = float(input(\"Enter Number Two: \"))\n",
        "operator = str(input(\"Enter Mathematical operator (+, -, *, /, //, **, %): \"))\n",
        "\n",
        "if(operator == \"+\"):\n",
        "  print(numberOne + numberTwo)\n",
        "elif operator == \"-\":\n",
        "  print(numberOne - numberTwo)\n",
        "elif operator == \"*\":\n",
        "  print(numberOne * numberTwo)\n",
        "elif operator == \"/\":\n",
        "  print(numberOne / numberTwo)\n",
        "elif operator == \"//\":\n",
        "  print(numberOne // numberTwo)\n",
        "elif operator == \"**\":\n",
        "  print(numberOne ** numberTwo)\n",
        "elif operator == \"%\":\n",
        "  print(numberOne % numberTwo)\n",
        "else:\n",
        "  print(\"Invalid Operator\")"
      ],
      "metadata": {
        "id": "jn0hWnvcj7rE"
      },
      "execution_count": null,
      "outputs": []
    }
  ]
}