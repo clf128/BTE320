{
  "nbformat": 4,
  "nbformat_minor": 0,
  "metadata": {
    "colab": {
      "provenance": [],
      "authorship_tag": "ABX9TyPmoPSzizdGp6mXqHcu7HbC",
      "include_colab_link": true
    },
    "kernelspec": {
      "name": "python3",
      "display_name": "Python 3"
    },
    "language_info": {
      "name": "python"
    }
  },
  "cells": [
    {
      "cell_type": "markdown",
      "metadata": {
        "id": "view-in-github",
        "colab_type": "text"
      },
      "source": [
        "<a href=\"https://colab.research.google.com/github/clf128/BTE320/blob/main/In_Class_Assignments.ipynb\" target=\"_parent\"><img src=\"https://colab.research.google.com/assets/colab-badge.svg\" alt=\"Open In Colab\"/></a>"
      ]
    },
    {
      "cell_type": "code",
      "execution_count": null,
      "metadata": {
        "colab": {
          "base_uri": "https://localhost:8080/"
        },
        "id": "xaKJE4K2gb4X",
        "outputId": "7a923e95-17f3-49e7-f46c-08fc72fbec68"
      },
      "outputs": [
        {
          "output_type": "stream",
          "name": "stdout",
          "text": [
            "Enter sales ($): 12000\n",
            "Enter tax rate (%): 30\n",
            "Enter Cost of Goods Sold (%): 40\n",
            "Cost of Goods sold: $4800.0\n",
            "Gross Profit: $7200.0\n",
            "Taxes: $2160.0\n",
            "Net Income: $5040.0\n"
          ]
        }
      ],
      "source": [
        "#Income statement#\n",
        "\n",
        "sales = input(\"Enter sales ($): \")\n",
        "sales = float(sales)\n",
        "\n",
        "tax_pct = input (\"Enter tax rate (%): \")\n",
        "tax_pct = float(tax_pct)\n",
        "\n",
        "cogs_pct = input(\"Enter Cost of Goods Sold (%): \")\n",
        "cogs_pct = float(cogs_pct)\n",
        "\n",
        "cogs = sales*cogs_pct/100\n",
        "\n",
        "grossProfit = sales - cogs\n",
        "\n",
        "taxes = grossProfit * tax_pct / 100\n",
        "\n",
        "netIncome = grossProfit - taxes\n",
        "\n",
        "gross_Profit = sales - COGS\n",
        "print(f\"Cost of Goods sold: ${cogs}\")\n",
        "print(f\"Gross Profit: ${gross_Profit}\")\n",
        "print(f\"Taxes: ${taxes}\")\n",
        "print(f\"Net Income: ${netIncome}\")"
      ]
    },
    {
      "cell_type": "code",
      "source": [
        "#Inventory Management#\n",
        "\n",
        "demand = input(\"Enter demand (units/year): \")\n",
        "demand = int(demand)\n",
        "reorder = input(\"Enter reorder cost ($/order): \")\n",
        "reorder = float(reorder)\n",
        "holding = input(\"Enter holding cost ($/unit/year): \")\n",
        "holding = float(holding)\n",
        "\n",
        "eoq = (2 * demand * reorder / holding) ** 0.5\n",
        "\n",
        "print(f\"The Economic Order Quantity (EOQ) is :{eoq} units\")\n",
        "\n"
      ],
      "metadata": {
        "colab": {
          "base_uri": "https://localhost:8080/"
        },
        "id": "Ih0cJM2AI77U",
        "outputId": "bc6f4a07-b7ae-429b-b7af-b1f14ca2f502"
      },
      "execution_count": null,
      "outputs": [
        {
          "output_type": "stream",
          "name": "stdout",
          "text": [
            "Enter demand (units/year): 100\n",
            "Enter reorder cost ($/order): 1.5\n",
            "Enter holding cost ($/unit/year): 3\n",
            "The Economic Order Quantity (EOQ) is :10.0 units\n"
          ]
        }
      ]
    },
    {
      "cell_type": "code",
      "source": [
        "# Numerical Calculator #\n",
        "\n",
        "numberOne = float(input(\"Enter Number One: \"))\n",
        "numberTwo = float(input(\"Enter Number Two: \"))\n",
        "operator = str(input(\"Enter Mathematical operator (+, -, *, /, //, **, %): \"))\n",
        "\n",
        "if(operator == \"+\"):\n",
        "  print(numberOne + numberTwo)\n",
        "elif operator == \"-\":\n",
        "  print(numberOne - numberTwo)\n",
        "elif operator == \"*\":\n",
        "  print(numberOne * numberTwo)\n",
        "elif operator == \"/\":\n",
        "  print(numberOne / numberTwo)\n",
        "elif operator == \"//\":\n",
        "  print(numberOne // numberTwo)\n",
        "elif operator == \"**\":\n",
        "  print(numberOne ** numberTwo)\n",
        "elif operator == \"%\":\n",
        "  print(numberOne % numberTwo)\n",
        "else:\n",
        "  print(\"Invalid Operator\")"
      ],
      "metadata": {
        "id": "jn0hWnvcj7rE"
      },
      "execution_count": null,
      "outputs": []
    },
    {
      "cell_type": "code",
      "source": [
        "# Parking Garage #\n",
        "\n",
        "for hour in range(1,9,1):\n",
        "  fee = 5 + hour * 2.5\n",
        "    print(f\"{hour} {fee}\")"
      ],
      "metadata": {
        "id": "_ej5R6rYhh6f"
      },
      "execution_count": null,
      "outputs": []
    },
    {
      "cell_type": "code",
      "source": [
        "# Parking Garage (Part 2)\n",
        "print (\"Hours   Fee\")\n",
        "for hour in range(1,9,1):\n",
        "  fee = 5 + hour * 2.5\n",
        "  if fee < 10:\n",
        "    fee = 10.0\n",
        "  elif fee > 20:\n",
        "    fee = 20.0\n",
        "  print(f\"{hour}\\t{fee}\")"
      ],
      "metadata": {
        "colab": {
          "base_uri": "https://localhost:8080/"
        },
        "id": "__sKdfkClEW7",
        "outputId": "087480a4-58df-45e6-8d13-88b85a42708a"
      },
      "execution_count": null,
      "outputs": [
        {
          "output_type": "stream",
          "name": "stdout",
          "text": [
            "Hours   Fee\n",
            "1\t10.0\n",
            "2\t10.0\n",
            "3\t12.5\n",
            "4\t15.0\n",
            "5\t17.5\n",
            "6\t20.0\n",
            "7\t20.0\n",
            "8\t20.0\n"
          ]
        }
      ]
    },
    {
      "cell_type": "code",
      "source": [
        "# Parking Garage With While Loop #\n",
        "print (\"Hours   Fee\")\n",
        "hour = 1\n",
        "while hour < 9:\n",
        "  fee = 5 + hour * 2.5\n",
        "  if fee < 10:\n",
        "    fee = 10.0\n",
        "  elif fee > 20:\n",
        "    fee = 20.0\n",
        "  print(f\"{hour}\\t{fee}\")\n",
        "  hour = hour + 1"
      ],
      "metadata": {
        "colab": {
          "base_uri": "https://localhost:8080/"
        },
        "id": "_ib326XstA6p",
        "outputId": "ba58da80-fd9a-4a82-9680-511dcec0a23e"
      },
      "execution_count": null,
      "outputs": [
        {
          "output_type": "stream",
          "name": "stdout",
          "text": [
            "Hours   Fee\n",
            "1\t10.0\n",
            "2\t10.0\n",
            "3\t12.5\n",
            "4\t15.0\n",
            "5\t17.5\n",
            "6\t20.0\n",
            "7\t20.0\n",
            "8\t20.0\n"
          ]
        }
      ]
    },
    {
      "cell_type": "code",
      "source": [
        "# Movie Theater #\n",
        "\n",
        "print(\"Ad$ Profit\")\n",
        "for adDollars in range (0,201,25):\n",
        "  revenue = 20 * 10 + 10 * 2 * adDollars ** 0.5\n",
        "  expenses = adDollars + 200\n",
        "  profit = revenue - expenses\n",
        "  print(adDollars, round(profit))\n"
      ],
      "metadata": {
        "colab": {
          "base_uri": "https://localhost:8080/"
        },
        "id": "GlHlpgvpO3bR",
        "outputId": "1297c352-feff-4994-fdd0-d585df333024"
      },
      "execution_count": null,
      "outputs": [
        {
          "output_type": "stream",
          "name": "stdout",
          "text": [
            "Ad$ Profit\n",
            "0 0\n",
            "25 75\n",
            "50 91\n",
            "75 98\n",
            "100 100\n",
            "125 99\n",
            "150 95\n",
            "175 90\n",
            "200 83\n"
          ]
        }
      ]
    },
    {
      "cell_type": "code",
      "source": [
        "#Append items to list iteratively#\n",
        "\n",
        "L = []\n",
        "num = float (input(\"Add a number: \"))\n",
        "\n",
        "while num !=0:\n",
        "  L.append(num)\n",
        "  num = float(input(\"Add another number: \"))\n",
        "\n",
        "L.sort(reverse = True)\n",
        "print(L)"
      ],
      "metadata": {
        "id": "VRHUxON2Rj4c"
      },
      "execution_count": null,
      "outputs": []
    },
    {
      "cell_type": "code",
      "source": [
        "# Rock-Paper-Scissors #\n",
        "\n",
        "import random\n",
        "\n",
        "while True:\n",
        "  play = input(\"Do you want to play a game (y/n)? \").lower()\n",
        "\n",
        "  if play != 'y':\n",
        "    break\n",
        "\n",
        "  user_choice = input(\"Choose between rock, paper, and scissors:\")\n",
        "  pc_choice = random.choice(['rock', 'paper', 'scissors'])\n",
        "  print(f\"User: {user_choice}, Computer: {pc_choice}\")\n",
        "  if user_choice == pc_choice:\n",
        "    print(\"Tie\")\n",
        "\n",
        "  elif(\n",
        "      (user_choice == 'rock' and pc_choice == 'scissors') or\n",
        "      (user_choice == 'scissors' and pc_choice == 'paper') or\n",
        "      (user_choice == 'paper' and pc_choice == 'rock')\n",
        "      ):\n",
        "      print('User wins')\n",
        "  else:\n",
        "    print('Computer wins')\n"
      ],
      "metadata": {
        "id": "PoqkYf7xgiDE",
        "colab": {
          "base_uri": "https://localhost:8080/"
        },
        "outputId": "ede94629-d06d-439c-d30b-ed911b66e10d"
      },
      "execution_count": 8,
      "outputs": [
        {
          "name": "stdout",
          "output_type": "stream",
          "text": [
            "Do you want to play a game (y/n)? y\n",
            "Choose between rock, paper, and scissors:rock\n",
            "User: rock, Computer: rock\n",
            "Tie\n",
            "Do you want to play a game (y/n)? n\n"
          ]
        }
      ]
    },
    {
      "cell_type": "markdown",
      "source": [],
      "metadata": {
        "id": "WUvDntfuguTS"
      }
    }
  ]
}